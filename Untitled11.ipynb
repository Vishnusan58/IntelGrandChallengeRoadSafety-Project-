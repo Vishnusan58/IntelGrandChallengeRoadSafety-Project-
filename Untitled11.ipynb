{
  "nbformat": 4,
  "nbformat_minor": 0,
  "metadata": {
    "colab": {
      "provenance": [],
      "authorship_tag": "ABX9TyMqcLhCe83DIYxxeDymuLip",
      "include_colab_link": true
    },
    "kernelspec": {
      "name": "python3",
      "display_name": "Python 3"
    },
    "language_info": {
      "name": "python"
    }
  },
  "cells": [
    {
      "cell_type": "markdown",
      "metadata": {
        "id": "view-in-github",
        "colab_type": "text"
      },
      "source": [
        "<a href=\"https://colab.research.google.com/github/Vishnusan58/IntelGrandChallengeRoadSafety-Project-/blob/main/Untitled11.ipynb\" target=\"_parent\"><img src=\"https://colab.research.google.com/assets/colab-badge.svg\" alt=\"Open In Colab\"/></a>"
      ]
    },
    {
      "cell_type": "code",
      "execution_count": 1,
      "metadata": {
        "colab": {
          "base_uri": "https://localhost:8080/"
        },
        "id": "kv3t2mneWn-Y",
        "outputId": "89217cf1-987b-4070-8774-0ddc64d22491"
      },
      "outputs": [
        {
          "output_type": "stream",
          "name": "stdout",
          "text": [
            "Requirement already satisfied: geopy in /usr/local/lib/python3.10/dist-packages (2.3.0)\n",
            "Requirement already satisfied: geographiclib<3,>=1.52 in /usr/local/lib/python3.10/dist-packages (from geopy) (2.0)\n"
          ]
        }
      ],
      "source": [
        "!pip install geopy\n"
      ]
    },
    {
      "cell_type": "code",
      "source": [
        "from geopy.geocoders import Nominatim\n",
        "\n",
        "def get_lat_long_from_pincode(pincode):\n",
        "    geolocator = Nominatim(user_agent=\"pincode_locator\")\n",
        "    location = geolocator.geocode(f\"{pincode}, India\")\n",
        "\n",
        "    if location:\n",
        "        return location.latitude, location.longitude\n",
        "    else:\n",
        "        return None, None\n",
        "\n",
        "# Input your postal code\n",
        "input_pincode = input(\"Enter a postal code: \")\n",
        "\n",
        "latitude, longitude = get_lat_long_from_pincode(input_pincode)\n",
        "\n",
        "if latitude is not None and longitude is not None:\n",
        "    print(f\"Latitude: {latitude}, Longitude: {longitude}\")\n",
        "else:\n",
        "    print(\"Unable to find coordinates for the provided postal code.\")\n"
      ],
      "metadata": {
        "colab": {
          "base_uri": "https://localhost:8080/"
        },
        "id": "L8RDOTZwWpXd",
        "outputId": "eaa25dfd-4755-4b41-8103-889fdc6cc977"
      },
      "execution_count": 2,
      "outputs": [
        {
          "output_type": "stream",
          "name": "stdout",
          "text": [
            "Enter a postal code: 613006\n",
            "Latitude: 10.748954828571428, Longitude: 79.14072941428572\n"
          ]
        }
      ]
    },
    {
      "cell_type": "code",
      "source": [
        "import pandas as pd\n",
        "from geopy.geocoders import Nominatim\n",
        "\n",
        "def get_lat_long_from_pincode(pincode):\n",
        "    geolocator = Nominatim(user_agent=\"pincode_locator\")\n",
        "    location = geolocator.geocode(f\"{pincode}, India\")\n",
        "\n",
        "    if location:\n",
        "        return location.latitude, location.longitude\n",
        "    else:\n",
        "        return None, None\n",
        "\n",
        "# Load the CSV file with a column containing pincodes\n",
        "file_path = 'data.csv'  # Replace 'your_file.csv' with the path to your CSV file\n",
        "column_name = 'PIN'  # Replace 'Pincode' with the name of the column containing pincodes\n",
        "\n",
        "# Read the CSV file using pandas\n",
        "df = pd.read_csv(file_path)\n",
        "\n",
        "# Extract pincodes from the specified column\n",
        "pincodes = df[column_name]\n",
        "\n",
        "# Initialize lists to store latitude and longitude values\n",
        "latitudes = []\n",
        "longitudes = []\n",
        "\n",
        "# Iterate through pincodes and retrieve coordinates\n",
        "for pincode in pincodes:\n",
        "    latitude, longitude = get_lat_long_from_pincode(pincode)\n",
        "    latitudes.append(latitude)\n",
        "    longitudes.append(longitude)\n",
        "\n",
        "# Add latitude and longitude columns to the DataFrame\n",
        "df['Latitude'] = latitudes\n",
        "df['Longitude'] = longitudes\n",
        "\n",
        "# Save the DataFrame with latitude and longitude to a new CSV file\n",
        "output_file_path = 'output_with_coordinates.csv'\n",
        "df.to_csv(output_file_path, index=False)\n",
        "\n",
        "print(f\"Coordinates added to the DataFrame and saved to '{output_file_path}'\")\n"
      ],
      "metadata": {
        "colab": {
          "base_uri": "https://localhost:8080/"
        },
        "id": "4qrsk9aJXODD",
        "outputId": "074ca47e-791f-4ef5-d9e7-8ad306e82788"
      },
      "execution_count": 4,
      "outputs": [
        {
          "output_type": "stream",
          "name": "stderr",
          "text": [
            "WARNING:urllib3.connectionpool:Retrying (Retry(total=1, connect=None, read=None, redirect=None, status=None)) after connection broken by 'ConnectTimeoutError(<urllib3.connection.HTTPSConnection object at 0x7df1bc9f9510>, 'Connection to nominatim.openstreetmap.org timed out. (connect timeout=1)')': /search?q=600099%2C+India&format=json&limit=1\n"
          ]
        },
        {
          "output_type": "stream",
          "name": "stdout",
          "text": [
            "Coordinates added to the DataFrame and saved to 'output_with_coordinates.csv'\n"
          ]
        }
      ]
    }
  ]
}